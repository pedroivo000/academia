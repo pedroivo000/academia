{
 "nbformat": 4,
 "nbformat_minor": 2,
 "metadata": {
  "language_info": {
   "name": "python",
   "codemirror_mode": {
    "name": "ipython",
    "version": 3
   },
   "version": "3.8.1-final"
  },
  "orig_nbformat": 2,
  "file_extension": ".py",
  "mimetype": "text/x-python",
  "name": "python",
  "npconvert_exporter": "python",
  "pygments_lexer": "ipython3",
  "version": 3,
  "kernelspec": {
   "name": "python38164bitacademiavirtualenv5300749bb8eb4774a47a290643b397e7",
   "display_name": "Python 3.8.1 64-bit ('academia': virtualenv)"
  }
 },
 "cells": [
  {
   "cell_type": "markdown",
   "execution_count": null,
   "metadata": {},
   "outputs": [],
   "source": [
    "# Post data cleaning"
   ]
  },
  {
   "cell_type": "markdown",
   "execution_count": null,
   "metadata": {},
   "outputs": [],
   "source": [
    "## Importing and cleaning post data\n",
    "\n",
    "Before we can do any text analsysis on the post data, we need to cleanup the `selftext` and `title` fields by removing punctuation, number and converting the text to lowercase. The `clean` function from the [cleantext](https://github.com/jfilter/clean-text) package makes this process very easy to do:\n"
   ]
  },
  {
   "cell_type": "code",
   "execution_count": 25,
   "metadata": {},
   "outputs": [],
   "source": [
    "#Data import\n",
    "import pandas as pd\n",
    "from glob import glob\n",
    "\n",
    "posts = pd.DataFrame()\n",
    "\n",
    "for file in glob(\"../data/raw/*json\"):\n",
    "    df = pd.read_json(file, orient=\"records\")\n",
    "    posts = posts.append(df, ignore_index=True, sort=False)"
   ]
  },
  {
   "cell_type": "code",
   "execution_count": 26,
   "metadata": {},
   "outputs": [
    {
     "name": "stdout",
     "output_type": "stream",
     "text": "<class 'pandas.core.frame.DataFrame'>\nRangeIndex: 80000 entries, 0 to 79999\nColumns: 104 entries, all_awardings to user_reports\ndtypes: bool(3), float64(40), int64(5), object(56)\nmemory usage: 61.9+ MB\n"
    }
   ],
   "source": [
    "posts.info()"
   ]
  },
  {
   "cell_type": "markdown",
   "execution_count": null,
   "metadata": {},
   "outputs": [],
   "source": [
    "Let's remove posts with no `selftext` or that have the \"\\[removed\\]\" and \"\\[deleted\\]\" tags:"
   ]
  },
  {
   "cell_type": "code",
   "execution_count": 31,
   "metadata": {},
   "outputs": [],
   "source": [
    "posts = posts[~posts[\"selftext\"].str.contains(\"\\[removed\\]|\\[deleted\\]|^$\", case=False, regex=True, na=False)]"
   ]
  },
  {
   "cell_type": "code",
   "execution_count": 28,
   "metadata": {},
   "outputs": [
    {
     "data": {
      "text/html": "<div>\n<style scoped>\n    .dataframe tbody tr th:only-of-type {\n        vertical-align: middle;\n    }\n\n    .dataframe tbody tr th {\n        vertical-align: top;\n    }\n\n    .dataframe thead th {\n        text-align: right;\n    }\n</style>\n<table border=\"1\" class=\"dataframe\">\n  <thead>\n    <tr style=\"text-align: right;\">\n      <th></th>\n      <th>title</th>\n      <th>title_clean</th>\n      <th>selftext</th>\n      <th>selftext_clean</th>\n    </tr>\n  </thead>\n  <tbody>\n    <tr>\n      <th>1</th>\n      <td>Should I switch labs (undergrad)</td>\n      <td>should i switch labs undergrad</td>\n      <td>Im an undergraduate junior doing work in a bio...</td>\n      <td>im an undergraduate junior doing work in a bio...</td>\n    </tr>\n  </tbody>\n</table>\n</div>",
      "text/plain": "                              title                     title_clean  \\\n1  Should I switch labs (undergrad)  should i switch labs undergrad   \n\n                                            selftext  \\\n1  Im an undergraduate junior doing work in a bio...   \n\n                                      selftext_clean  \n1  im an undergraduate junior doing work in a bio...  "
     },
     "execution_count": 28,
     "metadata": {},
     "output_type": "execute_result"
    }
   ],
   "source": [
    "#Remove punctuation, numbers and change to lowercase:\n",
    "posts[\"selftext_clean\"] = posts[\"selftext\"].apply(lambda row: clean(row, no_punct = True, no_numbers=True))\n",
    "posts[\"title_clean\"] = posts[\"title\"].apply(lambda row: clean(row, no_punct = True, no_numbers=True))\n"
   ]
  },
  {
   "cell_type": "markdown",
   "execution_count": null,
   "metadata": {},
   "outputs": [],
   "source": [
    "Saving `posts` dataframe in a pickle:"
   ]
  },
  {
   "cell_type": "code",
   "execution_count": 32,
   "metadata": {},
   "outputs": [],
   "source": [
    "posts.to_pickle(\"../data/interim/clean_posts.pkl\")"
   ]
  },
  {
   "cell_type": "code",
   "execution_count": 30,
   "metadata": {},
   "outputs": [],
   "source": [
    "posts = pd.read_pickle(\"../data/interim/clean_posts.pkl\")"
   ]
  }
 ]
}